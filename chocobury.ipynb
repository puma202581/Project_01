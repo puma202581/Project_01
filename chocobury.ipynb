{
 "cells": [
  {
   "cell_type": "code",
   "execution_count": 7,
   "metadata": {},
   "outputs": [
    {
     "name": "stdout",
     "output_type": "stream",
     "text": [
      "26\n",
      "30\n",
      "20\n",
      "15\n",
      "18\n",
      "19\n",
      "31\n",
      "29\n",
      "46\n",
      "17\n"
     ]
    }
   ],
   "source": [
    "# Question 1\n",
    "\n",
    "customer_DOBs = [1999, 1995, 2005, 2010, 2007, 2006, 1994, 1996, 1979, 2008]\n",
    "\n",
    "def my_function(customer_DOBs):\n",
    "    for year in customer_DOBs:\n",
    "        print((2025-year))\n",
    "\n",
    "my_function(customer_DOBs)\n"
   ]
  },
  {
   "cell_type": "code",
   "execution_count": 14,
   "metadata": {},
   "outputs": [
    {
     "name": "stdout",
     "output_type": "stream",
     "text": [
      "[20, 24, 14, 12, 13, 25, 23, 11]\n"
     ]
    }
   ],
   "source": [
    "# Question 2 - Cut outliers | Youngest and Oldest customer\n",
    "\n",
    "data = [20, 24, 14, 9, 12, 13, 25, 23, 40, 11]\n",
    "\n",
    "\n",
    "def cut_outliers(data):\n",
    "    x = min(data) \n",
    "    y = max(data)    \n",
    "    data.remove(x)\n",
    "    data.remove(y)\n",
    "    print(data)\n",
    "\n",
    "cut_outliers(data)"
   ]
  },
  {
   "cell_type": "code",
   "execution_count": 5,
   "metadata": {},
   "outputs": [
    {
     "name": "stdout",
     "output_type": "stream",
     "text": [
      "[15, 13, 16, 18, 19, 10, 12, 7, 13, 15, 20, 19, 18, 10, 16]\n",
      "[7, 10, 10, 12, 13, 13, 15, 15, 16, 16, 18, 18, 19, 19, 20]\n",
      "10\n",
      "13\n",
      "15\n",
      "16\n",
      "18\n",
      "19\n"
     ]
    }
   ],
   "source": [
    "# Question 3 - Common ages in two data sets\n",
    "\n",
    "berlin = [15, 13, 16, 18, 19, 10, 12 ]\n",
    "munich = [7, 13, 15, 20, 19, 18, 10, 16]\n",
    "\n",
    "berlin.extend(munich)\n",
    "print(berlin) \n",
    "\n",
    "berlin.sort()\n",
    "print(berlin)\n",
    "\n",
    "for i in range(len(berlin)-1):\n",
    "    if berlin[i] == berlin[i+1]:\n",
    "        print(berlin[i])\n",
    "\n"
   ]
  },
  {
   "cell_type": "code",
   "execution_count": 8,
   "metadata": {},
   "outputs": [
    {
     "name": "stdout",
     "output_type": "stream",
     "text": [
      "[10, 13, 15, 16, 18, 19]\n"
     ]
    }
   ],
   "source": [
    "# Question 4 - Remove duplicates\n",
    "\n",
    "sample_customer_ages = [15,13,16,18,19,15,10]\n",
    "\n",
    "def remove_duplicates(sample_customer_ages):\n",
    "    sample_customer_ages = list(set(sample_customer_ages))\n",
    "    print(sample_customer_ages)\n",
    "    \n",
    "remove_duplicates(sample_customer_ages)"
   ]
  },
  {
   "cell_type": "code",
   "execution_count": 2,
   "metadata": {},
   "outputs": [
    {
     "name": "stdout",
     "output_type": "stream",
     "text": [
      "Enter an age:\n",
      "True\n"
     ]
    }
   ],
   "source": [
    "# Question 5: The task is to write a function that takes an input list and value of age to find as input\n",
    "# and return true or false if the age value is present or not.\n",
    "\n",
    "sample_customer_ages1 = [15,13,16,18,19,15,10]\n",
    "\n",
    "def find_age(sample_customer_ages1, age):\n",
    "    if age in sample_customer_ages1:\n",
    "        print(True)\n",
    "    else:\n",
    "        print(False)\n",
    "\n",
    "print('Enter an age:')\n",
    "x = input()\n",
    "find_age(sample_customer_ages1, int(x))\n"
   ]
  },
  {
   "cell_type": "code",
   "execution_count": 7,
   "metadata": {},
   "outputs": [
    {
     "name": "stdout",
     "output_type": "stream",
     "text": [
      "the odd outlier is 11\n",
      "the even outlier is 160\n",
      "the odd outlier is 3\n"
     ]
    }
   ],
   "source": [
    "# Intermediate Level - Set1 - Write a method that takes the array as an argument and returns this outlier N.\n",
    "\n",
    "sample_test_case1 = [2, 4, 0, 100, 4, 11, 2602, 36]\n",
    "sample_test_case2 = [160, 3, 1719, 19, 11, 13, -21]\n",
    "sample_test_case3 = [2, 4, 6, 8, 10, 3]\n",
    "\n",
    "def find_outlier_odd(test_range):\n",
    "    even = []\n",
    "    odd = []\n",
    "    for i in test_range:\n",
    "        if i % 2 == 0:\n",
    "            even.append(i)\n",
    "        else:\n",
    "            odd.append(i)\n",
    "    if len(even) == 1:\n",
    "        print(f\"the even outlier is {even[0]}\")\n",
    "    else:\n",
    "        print(f\"the odd outlier is {odd[0]}\")\n",
    "\n",
    "# function buggs as soon as more than one outlier is present. Try adding \"4\" to sample_test_case2\n",
    "\n",
    "find_outlier_odd(sample_test_case1)\n",
    "find_outlier_odd(sample_test_case2)\n",
    "find_outlier_odd(sample_test_case3)"
   ]
  },
  {
   "cell_type": "code",
   "execution_count": 10,
   "metadata": {},
   "outputs": [
    {
     "name": "stdout",
     "output_type": "stream",
     "text": [
      "2\n",
      "1\n"
     ]
    }
   ],
   "source": [
    "# Intermediate Level - Set2 - Implement a difference function, which subtracts one list from another and\n",
    "# returns the result.\n",
    "\n",
    "\n",
    "def array_diff (a, b):\n",
    "    for i in a:\n",
    "        if i not in b:\n",
    "            print(i)     \n",
    "    \n",
    "array_diff([1,2], [1])\n",
    "array_diff([1,2,2], [2])"
   ]
  },
  {
   "cell_type": "code",
   "execution_count": 14,
   "metadata": {},
   "outputs": [
    {
     "name": "stdout",
     "output_type": "stream",
     "text": [
      "Bart, Lisa, Maggie & Homer\n",
      "Bart & Lisa\n",
      "Bart\n",
      "no names given\n"
     ]
    }
   ],
   "source": [
    "# Intermediate Level - Set3 - Return: a string formatted as a list of names separated by commas except for the last\n",
    "# two names, which should be separated by an ampersand\n",
    "\n",
    "def output_names(names):\n",
    "    if len(names) == 0:\n",
    "        print('no names given')\n",
    "    elif len(names) == 1:\n",
    "        print(names[0]['name'])\n",
    "    elif len(names) == 2:\n",
    "        print(f\"{names[0]['name']} & {names[1]['name']}\")\n",
    "    else:\n",
    "        print(', '.join([name['name'] for name in names[:-1]]) + f\" & {names[-1]['name']}\")\n",
    "\n",
    "# name['name'] returns the value for the key name\n",
    "# (name['name'] for name in names[:-1]) is a generator that yields each name attribute of the dictionaries called name of the list names, without the last item:\n",
    "# Then, ', '.join(name['name'] for name in names[:-1]) is the list of all the names without the last one, separated by commas.\n",
    "\n",
    "namelist1 = ([ {'name': 'Bart'}, {'name': 'Lisa'}, {'name': 'Maggie'}, {'name': 'Homer'} ])\n",
    "# returns ‘Bart, Lisa & Maggie‘\n",
    "namelist2 = ([ {'name': 'Bart'}, {'name': 'Lisa'} ])\n",
    "# returns ‘Bart & Lisa‘\n",
    "namelist3 = ([ {'name': 'Bart'} ])\n",
    "# returns ‘Bart‘\n",
    "namelist4 = ([])\n",
    "# returns ”\n",
    "\n",
    "output_names(namelist1)\n",
    "output_names(namelist2)\n",
    "output_names(namelist3)\n",
    "output_names(namelist4)\n",
    "\n",
    "\n"
   ]
  },
  {
   "cell_type": "code",
   "execution_count": 17,
   "metadata": {},
   "outputs": [
    {
     "name": "stdout",
     "output_type": "stream",
     "text": [
      "[1, 2]\n",
      "[1, 0, 15]\n",
      "[1, 2, 123]\n"
     ]
    }
   ],
   "source": [
    "# Intermediate Level Q4: In this task, create a function that takes a list of non-negative integers and strings\n",
    "# and returns a new list with the strings filtered out.\n",
    "\n",
    "filter_list1 = ([1,2,'a','b'])\n",
    "# == [1,2] \n",
    "filter_list2 = ([1,'a','b',0,15])\n",
    "# == [1,0,15] \n",
    "filter_list3 = ([1,2,'aasf','1','123',123])\n",
    "# == [1,2,123] \n",
    "\n",
    "def filter_list(l):\n",
    "    return [i for i in l if type(i) == int]\n",
    "\n",
    "filter_list(filter_list1)\n",
    "print(filter_list(filter_list1))\n",
    "    \n",
    "filter_list(filter_list2)\n",
    "print(filter_list(filter_list2))\n",
    "\n",
    "filter_list(filter_list3)\n",
    "print(filter_list(filter_list3))\n"
   ]
  },
  {
   "cell_type": "code",
   "execution_count": 20,
   "metadata": {},
   "outputs": [
    {
     "data": {
      "text/plain": [
       "-1"
      ]
     },
     "execution_count": 20,
     "metadata": {},
     "output_type": "execute_result"
    }
   ],
   "source": [
    "# Intermediate Level Q5: Given an array,  nd the int that appears an odd number of times. \n",
    "# There will always be only one integer that appears an odd number of times. \n",
    "\n",
    "find_it = ([20,1,-1,2,-2,3,3,5,5,1,2,4,20,4,-1,-2,5]) \n",
    "\n",
    "def find_odd_occurrence(seq):\n",
    "    for i in seq:\n",
    "        if seq.count(i) % 2 != 0:\n",
    "            return i\n",
    "\n",
    "# Does not equal sign in Python is !=\n",
    "\n",
    "find_odd_occurrence(find_it)\n"
   ]
  },
  {
   "cell_type": "code",
   "execution_count": 22,
   "metadata": {},
   "outputs": [
    {
     "name": "stdout",
     "output_type": "stream",
     "text": [
      "True\n",
      "False\n",
      "True\n",
      "True\n",
      "False\n"
     ]
    }
   ],
   "source": [
    "# Intermediate level Q6: Check to see if a string has the same amount of ’x’s and ’o’s. The method must \n",
    "# return a boolean and be case insensitive. The string can contain any char. \n",
    "\n",
    "XO1 = ('ooxx') # => true \n",
    "XO2 = ('xooxx') # => false \n",
    "XO3 = ('ooxXm') # => true \n",
    "XO4 = ('zpzpzpp') # => true // when no ‘x’ and ‘o’ is present should return true \n",
    "XO5 = ('zzoo') # => false\n",
    "\n",
    "def XO(s):\n",
    "    return s.lower().count('x') == s.lower().count('o')\n",
    "\n",
    "XO(XO1)\n",
    "print(XO(XO1))\n",
    "XO(XO2)\n",
    "print(XO(XO2))\n",
    "XO(XO3)\n",
    "print(XO(XO3))\n",
    "XO(XO4)\n",
    "print(XO(XO4))\n",
    "XO(XO5)\n",
    "print(XO(XO5))\n"
   ]
  },
  {
   "cell_type": "code",
   "execution_count": 25,
   "metadata": {},
   "outputs": [
    {
     "name": "stdout",
     "output_type": "stream",
     "text": [
      "True\n",
      "False\n",
      "False\n",
      "False\n"
     ]
    }
   ],
   "source": [
    "# Intermediate Level Q7: ATM machines allow 4 or 6 digit PIN codes and PIN codes cannot contain anything but\n",
    "# exactly 4 digits or exactly 6 digits.\n",
    "# If the function is passed a valid PIN string, return true, else return false.\n",
    "\n",
    "def validate_pin(pin):\n",
    "    return len(pin) in (4, 6) and pin.isdigit()\n",
    "\n",
    "pin_entry1 = ('1234') # ==True\n",
    "pin_entry2 = ('12345') # ==False\n",
    "pin_entry3 = ('a234') # ==False\n",
    "pin_entry4 = ('123456') # ==True\n",
    "\n",
    "validate_pin(pin_entry1)\n",
    "print(validate_pin(pin_entry1))\n",
    "\n",
    "validate_pin(pin_entry2)\n",
    "print(validate_pin(pin_entry2))\n",
    "\n",
    "validate_pin(pin_entry3)\n",
    "print(validate_pin(pin_entry3))\n",
    "\n",
    "validate_pin(pin_entry4)\n",
    "print(validate_pin(pin_entry4))\n"
   ]
  },
  {
   "cell_type": "code",
   "execution_count": 40,
   "metadata": {},
   "outputs": [
    {
     "name": "stdout",
     "output_type": "stream",
     "text": [
      "you look nice today\n",
      "the word with the fewest letters in your entry has 3 letters\n"
     ]
    }
   ],
   "source": [
    "# Intermediate Level Q8: Simple, given a string of words, return the length of the shortest word(s).\n",
    "# String will never be empty and you do not need to account for different data types.\n",
    "\n",
    "\n",
    "def find_shortest_word(s):\n",
    "        if s != ():\n",
    "            return min(len(word) for word in s.split())\n",
    "        else:\n",
    "            return 0\n",
    "        \n",
    "text_string = input()\n",
    "find_shortest_word(text_string)\n",
    "print(text_string)\n",
    "print(f'the word with the fewest letters in your entry has {find_shortest_word(text_string)} letters')\n"
   ]
  },
  {
   "cell_type": "code",
   "execution_count": 43,
   "metadata": {},
   "outputs": [
    {
     "name": "stdout",
     "output_type": "stream",
     "text": [
      "['a', 'b', 'c', 'd', 'f']\n",
      "e\n",
      "['O', 'Q', 'R', 'S']\n",
      "P\n"
     ]
    }
   ],
   "source": [
    "# Intermediate Level Q9: Write a method that takes an array of consecutive (increasing) letters as input and \n",
    "# that returns the missing letter in the array. \n",
    "\n",
    "# You will always get an valid array. And it will be always exactly one letter be missing. \n",
    "# The length of the array will always be at least 2. \n",
    "# The array will always contain letters in only one case. \n",
    " \n",
    "entry1 = ['a','b','c','d','f'] # -> ‘e’ \n",
    "entry2 = ['O','Q','R','S'] # -> ‘P’\n",
    "\n",
    "# first idea to work with alphabet master list and let sample list compare to it, however couple of problems\n",
    "# 1. sample list does not have to start with 'a' and 2. it is not guaranteed that the list is complete\n",
    "\n",
    "def find_missing_letter(chars):\n",
    "    for i in range(len(chars)-1):\n",
    "        if ord(chars[i+1]) - ord(chars[i]) != 1:\n",
    "            return chr(ord(chars[i])+1)\n",
    "\n",
    "# ord() returns the Unicode code point for a one-character string\n",
    "# chr() returns a string representing a character whose Unicode code point is the integer\n",
    "\n",
    "find_missing_letter(entry1)\n",
    "print(entry1)\n",
    "print(find_missing_letter(entry1))\n",
    "\n",
    "find_missing_letter(entry2)\n",
    "print(entry2)\n",
    "print(find_missing_letter(entry2))"
   ]
  },
  {
   "cell_type": "code",
   "execution_count": 44,
   "metadata": {},
   "outputs": [
    {
     "name": "stdout",
     "output_type": "stream",
     "text": [
      "['Ryan', 'Yous']\n"
     ]
    }
   ],
   "source": [
    "# Intermediate Level Q10: Make a program that  lters a list of strings and returns a list with only your \n",
    "# friends name in it. If a name has exactly 4 letters in it, you can be sure that it has to \n",
    "# be a friend of yours! Otherwise, you can be sure he /she is not. \n",
    "\n",
    "# Ex: Input = [“Ryan”, “Kieran”, “Jason”, “Yous”], Output = [“Ryan”, “Yous”] \n",
    "# Note: keep the original order of the names in the output. \n",
    "\n",
    "def friend(x):\n",
    "    return [i for i in x if len(i) == 4]\n",
    "\n",
    "friends = ['Ryan', 'Kieran', 'Jason', 'Yous']\n",
    "friend(friends)\n",
    "print(friend(friends))\n"
   ]
  },
  {
   "cell_type": "code",
   "execution_count": 8,
   "metadata": {},
   "outputs": [
    {
     "name": "stdout",
     "output_type": "stream",
     "text": [
      "[('c', 1), ('r', 2), ('a', 5), ('b', 2), ('d', 1)]\n"
     ]
    }
   ],
   "source": [
    "# Intermediate Level Set2 Q1: 1. Count the number of occurrences of each character and return it as \n",
    "# a list of tuples in order of appearance. \n",
    "# Example: \n",
    "# ordered_count(“abracadabra”) == [(‘a’, 5), (‘b’, 2), (‘r’, 2), (‘c’, 1), (‘d’, 1)] \n",
    "\n",
    "starting_string = 'abracadabra'\n",
    "\n",
    "def ordered_count(input):\n",
    "    res = []    \n",
    "    for i in range(len(input)):\n",
    "        res.append((input[i], input.count(input[i])))\n",
    "    return list(set(res))\n",
    "\n",
    "ordered_count(starting_string)\n",
    "print(ordered_count(starting_string))\n"
   ]
  },
  {
   "cell_type": "code",
   "execution_count": 12,
   "metadata": {},
   "outputs": [
    {
     "name": "stdout",
     "output_type": "stream",
     "text": [
      "19 is not a narcissistic number\n"
     ]
    },
    {
     "data": {
      "text/plain": [
       "False"
      ]
     },
     "execution_count": 12,
     "metadata": {},
     "output_type": "execute_result"
    }
   ],
   "source": [
    "# 2. A Narcissistic Number is a number which is the sum of its own digits, each raised \n",
    "# to the power of the number of digits in a given base. In this problem, we will restrict \n",
    "# ourselves to decimal (base 10). \n",
    "\n",
    "# For example, take 153 (3 digits): \n",
    "# 1^3 + 5^3 + 3^3 = 1 + 125 + 27 = 153 \n",
    "\n",
    "# and 1634 (4 digits): \n",
    "# 1^4 + 6^4 + 3^4 + 4^4 = 1 + 1296 + 81 + 256 = 1634 \n",
    "\n",
    "# The Challenge: \n",
    "# Your code must return true or false depending upon whether the given number is a \n",
    "# narcissistic number in base 10. Error checking for text strings or other invalid inputs is \n",
    "# not required, only valid integers will be passed into the function.\n",
    "\n",
    "x = int(input())\n",
    "\n",
    "def narcissistic(value):\n",
    "    if value == sum(int(x) ** len(str(value)) for x in str(value)):\n",
    "        print(f'{value} is a narcissistic number')\n",
    "        return True\n",
    "    else:\n",
    "        print(f'{value} is not a narcissistic number')\n",
    "        return False\n",
    "\n",
    "narcissistic(x)\n",
    "\n"
   ]
  },
  {
   "cell_type": "code",
   "execution_count": 22,
   "metadata": {},
   "outputs": [
    {
     "data": {
      "text/plain": [
       "False"
      ]
     },
     "execution_count": 22,
     "metadata": {},
     "output_type": "execute_result"
    }
   ],
   "source": [
    "# Intermediate Level Set2 Q3:  A pangram is a sentence that contains every \n",
    "# single letter of the alphabet at least once. For example, the sentence “The quick brown fox \n",
    "# jumps over the lazy dog” is a pangram, because it uses the letters A-Z at least once (case is irrelevant). \n",
    "\n",
    "# Given a string, detect whether or not it is a pangram. Return True if it is, False if not. Ignore \n",
    "# numbers and punctuation.\n",
    "\n",
    "ascii_lowercase = 'abcdefghijklmnopqrstuvwxyz'\n",
    "sample_sentence = 'The quick brown fox jumps over the lazy dog'\n",
    "# y = input()\n",
    "\n",
    "def is_pangram(s):\n",
    "    if set(ascii_lowercase) <= set(s.lower()):\n",
    "        return True\n",
    "    else:\n",
    "        return False\n",
    "\n",
    "\n",
    "is_pangram(sample_sentence)\n",
    "\n",
    "# is_pangram(y)\n"
   ]
  },
  {
   "cell_type": "code",
   "execution_count": null,
   "metadata": {},
   "outputs": [],
   "source": [
    "# 4.  In the city of Cartesia, all roads are laid out in a perfect grid. You arrived ten \n",
    "# minutes earlier to an appointment, so you decided to take the opportunity to go for a \n",
    "# short walk. The city provides its citizens with a Walk Generating App on their phones \n",
    "# — every time you press the button it sends you an array of one-letter strings \n",
    "# representing directions to walk (e.g. [‘n’, ‘s’, ‘w’, ‘e’]). You always walk only a single\n",
    "# block in a direction and you know it takes you one minute to traverse one city block, \n",
    "# so create a function that will return True if the walk the app tells you that you will\n",
    "# take exactly ten minutes (you don’t want to be early or late!) and will, of course, return \n",
    "# to your starting point. Return False otherwise. \n",
    "\n",
    "# Note: you will always receive a valid array containing a random assortment of \n",
    "# direction letters (‘n’, ‘s’, ‘e’, or ‘w’ only). It will never give you an empty array (that’s not \n",
    "# a walk, that’s standing still!). \n",
    "\n",
    "suggestion1 = ['n', 'e', 'e', 'n', 'e', 'w', 'n', 'n', 's', 'e'] # False \n",
    "suggestion2 = ['e', 'n', 'w', 'e', 'e', 's', 'n', 's', 'e', 'n', 'n', 's', 'n', 'e', 'w', 'n', 'n', 'n', 's'] # False \n",
    "suggestion3 = ['s', 'e', 's', 'n', 's', 's', 's', 'w', 'e', 'e', 'e', 'w', 's'] # False \n",
    "suggestion4 = ['e', 'w', 'e', 'n', 's'] # False \n",
    "suggestion5 = [s, e, w, n, n, s, e, w, n, s] # True\n",
    "\n"
   ]
  }
 ],
 "metadata": {
  "kernelspec": {
   "display_name": "EDA_Marc",
   "language": "python",
   "name": "python3"
  },
  "language_info": {
   "codemirror_mode": {
    "name": "ipython",
    "version": 3
   },
   "file_extension": ".py",
   "mimetype": "text/x-python",
   "name": "python",
   "nbconvert_exporter": "python",
   "pygments_lexer": "ipython3",
   "version": "3.9.21"
  }
 },
 "nbformat": 4,
 "nbformat_minor": 2
}
