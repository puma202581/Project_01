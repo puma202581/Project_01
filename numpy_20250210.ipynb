{
 "cells": [
  {
   "cell_type": "code",
   "execution_count": 2,
   "metadata": {},
   "outputs": [
    {
     "name": "stdout",
     "output_type": "stream",
     "text": [
      "[1 2 3 4 5]\n",
      "[[1 2 3]\n",
      " [4 5 6]\n",
      " [7 8 9]]\n",
      "[[[ 1  2  3]\n",
      "  [ 4  5  6]\n",
      "  [ 7  8  9]]\n",
      "\n",
      " [[10 11 12]\n",
      "  [13 14 15]\n",
      "  [16 17 18]]]\n"
     ]
    },
    {
     "data": {
      "text/plain": [
       "dtype('int64')"
      ]
     },
     "execution_count": 2,
     "metadata": {},
     "output_type": "execute_result"
    }
   ],
   "source": [
    "# import package\n",
    "import numpy as np\n",
    "\n",
    "# define 1D array\n",
    "oneD_list = [1, 2, 3, 4, 5]\n",
    "oneD_array = np.array(oneD_list)\n",
    "print(oneD_array)\n",
    "\n",
    "# define 2D array\n",
    "twoD_list = [[1, 2, 3], [4, 5, 6], [7, 8, 9]]\n",
    "twoD_array = np.array(twoD_list)\n",
    "print(twoD_array)\n",
    "\n",
    "# define 3D array\n",
    "threeD_list = [[[1, 2, 3], [4, 5, 6], [7, 8, 9]], [[10, 11, 12], [13, 14, 15], [16, 17, 18]]]\n",
    "threeD_array = np.array(threeD_list)\n",
    "print(threeD_array)\n",
    "\n",
    "# dimension of array\n",
    "oneD_array.ndim\n",
    "twoD_array.ndim\n",
    "threeD_array.ndim\n",
    "\n",
    "# shape for each dimension, number of rows and columns\n",
    "twoD_array.shape\n",
    "\n",
    "# size for each dimension, total number of elements\n",
    "twoD_array.size\n",
    "\n",
    "# kind of data in array\n",
    "twoD_array.dtype\n",
    "\n"
   ]
  },
  {
   "cell_type": "code",
   "execution_count": 22,
   "metadata": {},
   "outputs": [
    {
     "name": "stdout",
     "output_type": "stream",
     "text": [
      "[ 1  2 20  4  5]\n",
      "[ 2 20  4]\n",
      "[ 2 20  4]\n",
      "[ 2 20  4] [ 2 20  4]\n",
      "[ 1  2 20  4  5]\n",
      "None\n"
     ]
    }
   ],
   "source": [
    "# assign subset of existing array to new variable\n",
    "\n",
    "print(oneD_array)\n",
    "myview = oneD_array[1:4]\n",
    "mycopy = oneD_array[1:4].copy()\n",
    "\n",
    "print(myview)\n",
    "print(mycopy)\n",
    "\n",
    "# change value in the original array\n",
    "oneD_array[2] = 20.0\n",
    "\n",
    "\n",
    "# compare the two copies\n",
    "print(myview, mycopy)\n",
    "\n",
    "\n",
    "# check base for each copy\n",
    "print(myview.base)\n",
    "print(mycopy.base)\n",
    "\n",
    "\n",
    "\n",
    "\n",
    "\n"
   ]
  },
  {
   "cell_type": "code",
   "execution_count": 29,
   "metadata": {},
   "outputs": [
    {
     "name": "stdout",
     "output_type": "stream",
     "text": [
      "[[1 2 3]\n",
      " [4 5 6]\n",
      " [7 8 9]]\n",
      "5\n",
      "7\n"
     ]
    }
   ],
   "source": [
    "# target a specific elements in the array\n",
    "\n",
    "print(twoD_array)\n",
    "\n",
    "# target number \"5\"\n",
    "twoD_array[1, 1]\n",
    "print(twoD_array[1, 1])\n",
    "\n",
    "# show same element using [,]\n",
    "\n",
    "twoD_array[1, 1]\n",
    "\n",
    "# show \"7\" using [,]\n",
    "\n",
    "print(twoD_array[2, 0])"
   ]
  },
  {
   "cell_type": "code",
   "execution_count": 39,
   "metadata": {},
   "outputs": [
    {
     "name": "stdout",
     "output_type": "stream",
     "text": [
      "[[ 1  2  3 16 17]\n",
      " [ 4  5  6 18 19]\n",
      " [ 7  8  9 20 21]\n",
      " [10 11 12 22 23]\n",
      " [13 14 15 24 25]]\n",
      "[[ 5  6 18]\n",
      " [ 8  9 20]]\n",
      "[[22 23]\n",
      " [24 25]]\n",
      "[[4 6]\n",
      " [7 9]]\n"
     ]
    }
   ],
   "source": [
    "# select some contigous elements in the array (first rows, then columns)\n",
    "\n",
    "bigger2D = np.array([[1,2,3,16,17],[4,5,6,18,19],[7,8,9,20,21],[10,11,12,22,23],[13,14,15,24,25]])\n",
    "print(bigger2D)\n",
    "\n",
    "print(bigger2D[1:3,1:4])\n",
    "print(bigger2D[3:,3:])\n",
    "\n",
    "\n",
    "# target non-contigious elements in the array\n",
    "\n",
    "print(bigger2D[1:3,[0,2]])"
   ]
  },
  {
   "cell_type": "code",
   "execution_count": 49,
   "metadata": {},
   "outputs": [
    {
     "name": "stdout",
     "output_type": "stream",
     "text": [
      "[2 3 4 5 6]\n",
      "[ 4  6  8 10 12]\n",
      "[ 4  9 16 25 36]\n",
      "[ 1  2 20  4  5]\n",
      "[2 3 4 5 6]\n",
      "[ 3  5 24  9 11]\n",
      "[ 2  6 80 20 30]\n"
     ]
    }
   ],
   "source": [
    "# simple calc with arrays\n",
    "\n",
    "oneD_array\n",
    "oneD2_array = np.array([2,3,4,5,6])\n",
    "\n",
    "print(oneD2_array)\n",
    "\n",
    "# multiply array with 2\n",
    "\n",
    "print(oneD2_array*2)\n",
    "\n",
    "\n",
    "# arr squared 2\n",
    "\n",
    "print(oneD2_array**2)\n",
    "\n",
    "\n",
    "# add arr together\n",
    "\n",
    "print(oneD_array)\n",
    "print(oneD2_array)\n",
    "print(oneD_array+oneD2_array)\n",
    "\n",
    "\n",
    "# arr * arr\n",
    "print(oneD_array*oneD2_array)\n"
   ]
  },
  {
   "cell_type": "code",
   "execution_count": 54,
   "metadata": {},
   "outputs": [
    {
     "name": "stdout",
     "output_type": "stream",
     "text": [
      "[[ 1  2  3 16 17]\n",
      " [ 4  5  6 18 19]\n",
      " [ 7  8  9 20 21]\n",
      " [10 11 12 22 23]\n",
      " [13 14 15 24 25]]\n",
      "[[ True  True  True False False]\n",
      " [ True  True  True False False]\n",
      " [ True  True  True False False]\n",
      " [False False False False False]\n",
      " [False False False False False]]\n"
     ]
    }
   ],
   "source": [
    "# Boolean array, in this case \"0\" returns \"false\"\n",
    "\n",
    "bool_array = np.array([0,1,0,2,3], dtype=bool)\n",
    "bool_array\n",
    "\n",
    "\n",
    "# use boolean array with comparison operator\n",
    "print(bigger2D)\n",
    "my_boolean_array = np.array(bigger2D < 10)\n",
    "print(my_boolean_array)\n",
    "\n",
    "\n"
   ]
  },
  {
   "cell_type": "code",
   "execution_count": 58,
   "metadata": {},
   "outputs": [
    {
     "name": "stdout",
     "output_type": "stream",
     "text": [
      "[ 1  2 20  4  5]\n",
      "6.4\n",
      "1\n",
      "20\n"
     ]
    }
   ],
   "source": [
    "# aggregation functions\n",
    "\n",
    "print(oneD_array)\n",
    "print(oneD_array.mean())\n",
    "print(oneD_array.min())\n",
    "print(oneD_array.max())"
   ]
  },
  {
   "cell_type": "code",
   "execution_count": 67,
   "metadata": {},
   "outputs": [
    {
     "name": "stdout",
     "output_type": "stream",
     "text": [
      "[ 1  2  4  5 20]\n",
      "None\n",
      "[ 1  2  4  5 20  2  3  4  5  6]\n",
      "[[ 1  2  3 16 17]\n",
      " [ 4  5  6 18 19]\n",
      " [ 7  8  9 20 21]\n",
      " [10 11 12 22 23]\n",
      " [13 14 15 24 25]]\n",
      "[[ 1  4  7 10 13]\n",
      " [ 2  5  8 11 14]\n",
      " [ 3  6  9 12 15]\n",
      " [16 18 20 22 24]\n",
      " [17 19 21 23 25]]\n"
     ]
    }
   ],
   "source": [
    "# sorting\n",
    "\n",
    "print(oneD_array)\n",
    "print(oneD_array.sort())\n",
    "\n",
    "\n",
    "# concatenate arrays\n",
    "\n",
    "oneD3 = np.concatenate((oneD_array, oneD2_array))\n",
    "print(oneD3)\n",
    "\n",
    "\n",
    "# transpose 2D array\n",
    "\n",
    "print(bigger2D)\n",
    "print(bigger2D.T)\n",
    "\n",
    "\n"
   ]
  },
  {
   "cell_type": "code",
   "execution_count": 4,
   "metadata": {},
   "outputs": [
    {
     "name": "stdout",
     "output_type": "stream",
     "text": [
      "[0 0 0 0 0 0 0 0 0 0]\n",
      "[5 7 9]\n",
      "[8 6 7 8 6 5 4 3 2 7]\n",
      "[[8 6 7 8 6]\n",
      " [5 4 3 2 7]]\n"
     ]
    }
   ],
   "source": [
    "zero_array = np.zeros(10, dtype=int)\n",
    "print(zero_array)\n",
    "\n",
    "print(np.arange(5,10,2))\n",
    "\n",
    "np.linspace(0,100,11)\n",
    "\n",
    "random_array = np.random.randint(1,10,10)\n",
    "print(random_array)\n",
    "\n",
    "random_array.reshape(2,5)\n",
    "print(random_array.reshape(2,5))\n",
    "\n"
   ]
  }
 ],
 "metadata": {
  "kernelspec": {
   "display_name": "EDA_Marc",
   "language": "python",
   "name": "python3"
  },
  "language_info": {
   "codemirror_mode": {
    "name": "ipython",
    "version": 3
   },
   "file_extension": ".py",
   "mimetype": "text/x-python",
   "name": "python",
   "nbconvert_exporter": "python",
   "pygments_lexer": "ipython3",
   "version": "3.9.21"
  }
 },
 "nbformat": 4,
 "nbformat_minor": 2
}
