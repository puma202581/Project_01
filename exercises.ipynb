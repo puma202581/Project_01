{
 "cells": [
  {
   "cell_type": "code",
   "execution_count": null,
   "metadata": {},
   "outputs": [],
   "source": [
    "age_group_members = [48,43,43,39,42,34]\n",
    "b = sorted(age_group_members)\n",
    "\n",
    "for b in age_group_members:\n",
    "    if b % 2 == 0:\n",
    "        print(b)\n",
    "    else:\n",
    "        print()\n",
    "\n"
   ]
  },
  {
   "cell_type": "code",
   "execution_count": null,
   "metadata": {},
   "outputs": [],
   "source": [
    "age_group_members = [48,43,43,39,42,34]\n",
    "\n",
    "while age_group_members % 2 == 0:\n",
    "    print(age_group_members)\n",
    "    age_group_members += 1"
   ]
  },
  {
   "cell_type": "code",
   "execution_count": 2,
   "metadata": {},
   "outputs": [
    {
     "name": "stdout",
     "output_type": "stream",
     "text": [
      "Minimum is 4\n",
      "Maximum is 99\n"
     ]
    }
   ],
   "source": [
    "# Exercise 8\n",
    "\n",
    "random_numbers = [99, 6, 73, 85, 4, 19, 54, 22]\n",
    "x = min(random_numbers)\n",
    "print(\"Minimum is\", (x))\n",
    "y = max(random_numbers)\n",
    "print(\"Maximum is\", (y))\n"
   ]
  },
  {
   "cell_type": "code",
   "execution_count": null,
   "metadata": {},
   "outputs": [],
   "source": [
    "customer_birth_years = [1999, 1995, 2005, 2010, 2007, 2006, 1994, 1996, 1979, 2008]\n",
    "for year in customer_birth_years:\n",
    "    if year < 2000:\n",
    "        print(year)\n",
    "    else:\n",
    "        print()"
   ]
  },
  {
   "cell_type": "code",
   "execution_count": 5,
   "metadata": {},
   "outputs": [
    {
     "name": "stdout",
     "output_type": "stream",
     "text": [
      "26\n",
      "30\n",
      "20\n",
      "15\n",
      "18\n",
      "19\n",
      "31\n",
      "29\n",
      "46\n",
      "17\n"
     ]
    }
   ],
   "source": [
    "# Exercise 10\n",
    "\n",
    "customer_birth_years = [1999, 1995, 2005, 2010, 2007, 2006, 1994, 1996, 1979, 2008]\n",
    "for year in customer_birth_years:\n",
    "    print(2025 - year)"
   ]
  },
  {
   "cell_type": "code",
   "execution_count": 1,
   "metadata": {},
   "outputs": [
    {
     "name": "stdout",
     "output_type": "stream",
     "text": [
      "Bob is 26 years old\n",
      "Jack is 30 years old\n",
      "Lisa is 20 years old\n",
      "Maria is 15 years old\n",
      "Ben is 18 years old\n",
      "Emma is 19 years old\n",
      "Oscar is 31 years old\n",
      "Amy is 29 years old\n",
      "Paul is 46 years old\n",
      "Etta is 17 years old\n"
     ]
    }
   ],
   "source": [
    "# Exercise 11\n",
    "\n",
    "customer_list = [\n",
    "                    {\"name\": \"Bob\", \"age\": 1999},\n",
    "                    {\"name\": \"Jack\", \"age\": 1995},\n",
    "                    {\"name\": \"Lisa\", \"age\": 2005},\n",
    "                    {\"name\": \"Maria\", \"age\": 2010},\n",
    "                    {\"name\": \"Ben\", \"age\": 2007},\n",
    "                    {\"name\": \"Emma\", \"age\": 2006},\n",
    "                    {\"name\": \"Oscar\", \"age\": 1994},\n",
    "                    {\"name\": \"Amy\", \"age\": 1996},\n",
    "                    {\"name\": \"Paul\", \"age\": 1979},\n",
    "                    {\"name\": \"Etta\", \"age\": 2008}\n",
    "                ]\n",
    "for customer in customer_list:\n",
    "    print(customer[\"name\"], \"is\", (2025-customer[\"age\"]), \"years old\")"
   ]
  },
  {
   "cell_type": "code",
   "execution_count": 6,
   "metadata": {},
   "outputs": [
    {
     "name": "stdout",
     "output_type": "stream",
     "text": [
      "[9, 11, 12, 13, 14, 20, 23, 24, 25, 40]\n",
      "[11, 12, 13, 14, 20, 23, 24, 25]\n"
     ]
    }
   ],
   "source": [
    "# Exercise 12\n",
    "\n",
    "ages = [20, 24, 14, 9, 12, 13, 25, 23, 40, 11]\n",
    "\n",
    "sorted_ages = sorted(ages)\n",
    "print(sorted_ages)\n",
    "\n",
    "sorted_ages.pop(0)\n",
    "sorted_ages.pop()\n",
    "print(sorted_ages)"
   ]
  },
  {
   "cell_type": "code",
   "execution_count": null,
   "metadata": {},
   "outputs": [
    {
     "name": "stdout",
     "output_type": "stream",
     "text": [
      "[15, 13, 16, 18, 19, 10, 12, 7, 13, 15, 20, 19, 18, 10, 16]\n",
      "[13, 15, 19, 18, 10, 16]\n",
      "{7, 10, 12, 13, 15, 16, 18, 19, 20}\n"
     ]
    }
   ],
   "source": [
    "# Exercise 13\n",
    "\n",
    "berlin = [15, 13, 16, 18, 19, 10, 12 ]\n",
    "munich = [7, 13, 15, 20, 19, 18, 10, 16]\n",
    "\n",
    "berlin.extend(munich)\n",
    "print(berlin)\n",
    "\n",
    "# Initialize an empty set to store seen elements\n",
    "s = set()\n",
    "\n",
    "# List to store duplicates\n",
    "dup = []\n",
    "\n",
    "for n in berlin:\n",
    "    if n in s:\n",
    "        dup.append(n)\n",
    "    else:\n",
    "        s.add(n)\n",
    "\n",
    "print(dup)\n",
    "print(list(s))\n",
    "\n",
    "# commons = [num for num in berlin if num in munich]\n",
    "# list comprehension\n",
    "\n",
    "# use variable.intersection()\n",
    "\n",
    "# for x in berlin\n",
    "# if x in berlin and munich\n",
    "\n"
   ]
  },
  {
   "cell_type": "code",
   "execution_count": 11,
   "metadata": {},
   "outputs": [
    {
     "name": "stdout",
     "output_type": "stream",
     "text": [
      "[10, 13, 15, 15, 16, 18, 19]\n",
      "[10, 13, 15, 16, 18, 19]\n"
     ]
    }
   ],
   "source": [
    "# Exercise 14\n",
    "\n",
    "ages = [15, 13, 16, 18, 19, 15, 10]\n",
    "\n",
    "sorted_ages = sorted(ages)\n",
    "print(sorted_ages)\n",
    "\n",
    "sorted_ages = list( dict.fromkeys(sorted_ages) )\n",
    "print(sorted_ages)\n"
   ]
  },
  {
   "cell_type": "code",
   "execution_count": 9,
   "metadata": {},
   "outputs": [
    {
     "ename": "TypeError",
     "evalue": "unsupported operand type(s) for %: 'list' and 'int'",
     "output_type": "error",
     "traceback": [
      "\u001b[1;31m---------------------------------------------------------------------------\u001b[0m",
      "\u001b[1;31mTypeError\u001b[0m                                 Traceback (most recent call last)",
      "Cell \u001b[1;32mIn[9], line 8\u001b[0m\n\u001b[0;32m      5\u001b[0m i \u001b[38;5;241m=\u001b[39m \u001b[38;5;241m0\u001b[39m\n\u001b[0;32m      7\u001b[0m \u001b[38;5;28;01mwhile\u001b[39;00m i \u001b[38;5;241m<\u001b[39m \u001b[38;5;241m7\u001b[39m:\n\u001b[1;32m----> 8\u001b[0m     \u001b[38;5;28;01mif\u001b[39;00m \u001b[43mage_group_members\u001b[49m\u001b[43m \u001b[49m\u001b[38;5;241;43m%\u001b[39;49m\u001b[43m \u001b[49m\u001b[38;5;241;43m2\u001b[39;49m \u001b[38;5;241m==\u001b[39m \u001b[38;5;241m0\u001b[39m:\n\u001b[0;32m      9\u001b[0m         \u001b[38;5;28mprint\u001b[39m(age_group_members)\n\u001b[0;32m     10\u001b[0m         i \u001b[38;5;241m+\u001b[39m\u001b[38;5;241m=\u001b[39m \u001b[38;5;241m1\u001b[39m\n",
      "\u001b[1;31mTypeError\u001b[0m: unsupported operand type(s) for %: 'list' and 'int'"
     ]
    }
   ],
   "source": [
    "# Exercise 10 with WHILE Loop\n",
    "\n",
    "age_group_members = [14, 29, 42, 57, 70, 85]\n",
    "\n",
    "i = 0\n",
    "\n",
    "while i < 7:\n",
    "    if age_group_members % 2 == 0:\n",
    "        print(age_group_members)\n",
    "        i += 1\n",
    "    else:\n",
    "        continue\n",
    "        i +=1\n"
   ]
  },
  {
   "cell_type": "code",
   "execution_count": 10,
   "metadata": {},
   "outputs": [
    {
     "name": "stdout",
     "output_type": "stream",
     "text": [
      "14\n",
      "42\n",
      "70\n"
     ]
    }
   ],
   "source": [
    "# Exercise 10 with FOR Loop\n",
    "\n",
    "age_group_members = [14, 29, 42, 57, 70, 85]\n",
    "\n",
    "for x in age_group_members :\n",
    "    if (x % 2 ) == 0:\n",
    "        print(x)\n",
    "    else:\n",
    "        continue\n"
   ]
  },
  {
   "cell_type": "code",
   "execution_count": 12,
   "metadata": {},
   "outputs": [
    {
     "name": "stdout",
     "output_type": "stream",
     "text": [
      "Bob is 26 years old\n",
      "Jack is 30 years old\n",
      "Lisa is 20 years old\n",
      "Maria is 15 years old\n",
      "Ben is 18 years old\n",
      "Emma is 19 years old\n",
      "Oscar is 31 years old\n",
      "Amy is 29 years old\n",
      "Paul is 46 years old\n",
      "Etta is 17 years old\n"
     ]
    }
   ],
   "source": [
    "# Exercise 11 with function\n",
    "\n",
    "customer_list = [\n",
    "                    {\"name\": \"Bob\", \"age\": 1999},\n",
    "                    {\"name\": \"Jack\", \"age\": 1995},\n",
    "                    {\"name\": \"Lisa\", \"age\": 2005},\n",
    "                    {\"name\": \"Maria\", \"age\": 2010},\n",
    "                    {\"name\": \"Ben\", \"age\": 2007},\n",
    "                    {\"name\": \"Emma\", \"age\": 2006},\n",
    "                    {\"name\": \"Oscar\", \"age\": 1994},\n",
    "                    {\"name\": \"Amy\", \"age\": 1996},\n",
    "                    {\"name\": \"Paul\", \"age\": 1979},\n",
    "                    {\"name\": \"Etta\", \"age\": 2008}\n",
    "                ]\n",
    "\n",
    "def my_function(customer_list):\n",
    "    for customer in customer_list:\n",
    "        print(customer[\"name\"], \"is\", (2025-customer[\"age\"]), \"years old\")\n",
    "\n",
    "my_function(customer_list) "
   ]
  },
  {
   "cell_type": "code",
   "execution_count": null,
   "metadata": {},
   "outputs": [],
   "source": [
    "# E"
   ]
  }
 ],
 "metadata": {
  "kernelspec": {
   "display_name": "EDA_Marc",
   "language": "python",
   "name": "python3"
  },
  "language_info": {
   "codemirror_mode": {
    "name": "ipython",
    "version": 3
   },
   "file_extension": ".py",
   "mimetype": "text/x-python",
   "name": "python",
   "nbconvert_exporter": "python",
   "pygments_lexer": "ipython3",
   "version": "3.9.21"
  }
 },
 "nbformat": 4,
 "nbformat_minor": 2
}
